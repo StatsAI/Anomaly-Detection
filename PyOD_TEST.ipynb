{
 "cells": [
  {
   "cell_type": "code",
   "execution_count": 156,
   "metadata": {},
   "outputs": [],
   "source": [
    "import numpy as np\n",
    "import pandas as pd\n",
    "import matplotlib.pyplot as plt\n",
    "from pyod.models.knn import KNN\n",
    "from pyod.models.auto_encoder import AutoEncoder\n",
    "from pyod.models.vae import VAE\n",
    "from pyod.utils.data import generate_data\n",
    "from pyod.utils.data import evaluate_print\n",
    "from pyod.utils.example import visualize\n",
    "from joblib import dump, load"
   ]
  },
  {
   "cell_type": "code",
   "execution_count": 157,
   "metadata": {},
   "outputs": [
    {
     "name": "stderr",
     "output_type": "stream",
     "text": [
      "C:\\Users\\deepl\\anaconda3\\lib\\site-packages\\pyod\\utils\\data.py:185: FutureWarning: behaviour=\"old\" is deprecated and will be removed in version 0.8.0. Please use behaviour=\"new\", which makes the returned datasets in the order of X_train, X_test, y_train, y_test.\n",
      "  warn('behaviour=\"old\" is deprecated and will be removed '\n"
     ]
    }
   ],
   "source": [
    "contamination = 0.1 # percentage of outliers\n",
    "n_train = 500       # number of training points\n",
    "n_test = 500        # number of testing points\n",
    "n_features = 2      # number of features\n",
    "\n",
    "X_train, y_train, X_test, y_test = generate_data(\n",
    " n_train=n_train, n_test=n_test, n_features= n_features, contamination=contamination)"
   ]
  },
  {
   "cell_type": "code",
   "execution_count": 158,
   "metadata": {},
   "outputs": [
    {
     "data": {
      "image/png": "[encoded data removed]",
      "text/plain": [
       "<Figure size 432x288 with 1 Axes>"
      ]
     },
     "metadata": {
      "needs_background": "light"
     },
     "output_type": "display_data"
    }
   ],
   "source": [
    "# Make the 2d numpy array a pandas dataframe for each manipulation \n",
    "X_train_pd = pd.DataFrame(X_train)\n",
    "y_train_pd = pd.DataFrame(y_train)\n",
    "    \n",
    "# Plot\n",
    "plt.scatter(X_train_pd[0], X_train_pd[1], c=y_train, alpha=0.8)\n",
    "plt.title('Scatter plot')\n",
    "plt.xlabel('Feature 1')\n",
    "plt.ylabel('Feature 2')\n",
    "plt.show()"
   ]
  },
  {
   "cell_type": "markdown",
   "metadata": {},
   "source": [
    "## Unsupervised KNN Example"
   ]
  },
  {
   "cell_type": "code",
   "execution_count": 159,
   "metadata": {},
   "outputs": [],
   "source": [
    "# train kNN detector\n",
    "clf_name = 'KNN'\n",
    "clf = KNN()\n",
    "clf.fit(X_train)\n",
    "\n",
    "# get the prediction label and outlier scores of the training data\n",
    "y_train_pred = clf.labels_  # binary labels (0: inliers, 1: outliers)\n",
    "y_train_scores = clf.decision_scores_  # raw outlier scores\n",
    "\n",
    "# get the prediction on the test data\n",
    "y_test_pred = clf.predict(X_test)  # outlier labels (0 or 1)\n",
    "y_test_scores = clf.decision_function(X_test)  # outlier scores"
   ]
  },
  {
   "cell_type": "code",
   "execution_count": 160,
   "metadata": {},
   "outputs": [],
   "source": [
    "# save the model\n",
    "dump(clf, 'clf.joblib')\n",
    "\n",
    "# load the model\n",
    "clf = load('clf.joblib')"
   ]
  },
  {
   "cell_type": "code",
   "execution_count": 161,
   "metadata": {},
   "outputs": [
    {
     "data": {
      "text/plain": [
       "array([0.11296177, 0.0831373 , 0.08011653, 0.09548204, 0.0570404 ,\n",
       "       0.06508255, 0.12951503, 0.84885848, 0.07788685, 0.18176903,\n",
       "       3.36807262, 3.44791276, 2.9388349 , 2.46195467, 3.81281857,\n",
       "       2.5264292 , 3.04083538, 2.42734567, 4.72353018, 2.4656701 ,\n",
       "       3.25203059, 2.77607957, 3.11213626, 2.0239029 , 2.13938642,\n",
       "       2.0239029 , 2.03076216, 3.04454168, 3.93998983, 2.5922416 ,\n",
       "       2.59214792, 2.92590782, 2.41948873, 2.5264292 , 2.81163481,\n",
       "       3.45364939, 2.49679756, 2.07037445, 5.07144195, 3.40754198,\n",
       "       2.54675801, 2.33775221, 2.09952287, 2.68650078, 4.72710776,\n",
       "       2.10343469, 2.13183326, 3.00087889, 1.97730284, 2.71923675,\n",
       "       2.3074711 , 2.22018187, 2.79382759, 3.34803771, 2.68228094,\n",
       "       0.84185486, 3.06429613, 3.71165202, 2.3074711 , 1.93273113])"
      ]
     },
     "execution_count": 161,
     "metadata": {},
     "output_type": "execute_result"
    }
   ],
   "source": [
    "y_train_scores[-60:]"
   ]
  },
  {
   "cell_type": "code",
   "execution_count": 162,
   "metadata": {},
   "outputs": [
    {
     "data": {
      "text/plain": [
       "array([0, 0, 0, 0, 0, 0, 0, 1, 0, 0, 1, 1, 1, 1, 1, 1, 1, 1, 1, 1, 1, 1,\n",
       "       1, 1, 1, 1, 1, 1, 1, 1, 1, 1, 1, 1, 1, 1, 1, 1, 1, 1, 1, 1, 1, 1,\n",
       "       1, 1, 1, 1, 1, 1, 1, 1, 1, 1, 1, 0, 1, 1, 1, 1])"
      ]
     },
     "execution_count": 162,
     "metadata": {},
     "output_type": "execute_result"
    }
   ],
   "source": [
    "y_train_pred[-60:]"
   ]
  },
  {
   "cell_type": "code",
   "execution_count": 163,
   "metadata": {},
   "outputs": [
    {
     "data": {
      "text/plain": [
       "0    451\n",
       "1     49\n",
       "dtype: int64"
      ]
     },
     "execution_count": 163,
     "metadata": {},
     "output_type": "execute_result"
    }
   ],
   "source": [
    "pd.DataFrame(y_test_pred).value_counts()"
   ]
  },
  {
   "cell_type": "code",
   "execution_count": 164,
   "metadata": {},
   "outputs": [
    {
     "name": "stdout",
     "output_type": "stream",
     "text": [
      "\n",
      "On Training Data:\n",
      "KNN ROC:1.0, precision @ rank n:0.98\n",
      "\n",
      "On Test Data:\n",
      "KNN ROC:1.0, precision @ rank n:1.0\n"
     ]
    }
   ],
   "source": [
    "# evaluate and print the results\n",
    "print(\"\\nOn Training Data:\")\n",
    "evaluate_print(clf_name, y_train, y_train_scores)\n",
    "\n",
    "print(\"\\nOn Test Data:\")\n",
    "evaluate_print(clf_name, y_test, y_test_scores)"
   ]
  },
  {
   "cell_type": "code",
   "execution_count": 165,
   "metadata": {},
   "outputs": [
    {
     "data": {
      "image/png": "[encoded data removed]",
      "text/plain": [
       "<Figure size 864x720 with 4 Axes>"
      ]
     },
     "metadata": {},
     "output_type": "display_data"
    }
   ],
   "source": [
    "visualize(clf_name, X_train, y_train, X_test, y_test, y_train_pred,\n",
    "    y_test_pred, show_figure=True, save_figure=False)"
   ]
  },
  {
   "cell_type": "markdown",
   "metadata": {},
   "source": [
    "## Autoencoder Example"
   ]
  },
  {
   "cell_type": "code",
   "execution_count": 166,
   "metadata": {},
   "outputs": [],
   "source": [
    "contamination = 0.1  # percentage of outliers\n",
    "n_train = 20000      # number of training points\n",
    "n_test = 2000        # number of testing points\n",
    "n_features = 300     # number of features"
   ]
  },
  {
   "cell_type": "code",
   "execution_count": 167,
   "metadata": {},
   "outputs": [
    {
     "name": "stderr",
     "output_type": "stream",
     "text": [
      "C:\\Users\\deepl\\anaconda3\\lib\\site-packages\\pyod\\utils\\data.py:185: FutureWarning: behaviour=\"old\" is deprecated and will be removed in version 0.8.0. Please use behaviour=\"new\", which makes the returned datasets in the order of X_train, X_test, y_train, y_test.\n",
      "  warn('behaviour=\"old\" is deprecated and will be removed '\n"
     ]
    }
   ],
   "source": [
    "# Generate sample data\n",
    "\n",
    "X_train, y_train, X_test, y_test = generate_data(n_train=n_train,\n",
    "                                                 n_test=n_test,\n",
    "                                                 n_features=n_features,\n",
    "                                                 contamination=contamination,\n",
    "                                                 random_state=42)"
   ]
  },
  {
   "cell_type": "code",
   "execution_count": 168,
   "metadata": {},
   "outputs": [
    {
     "name": "stdout",
     "output_type": "stream",
     "text": [
      "Model: \"sequential_2\"\n",
      "_________________________________________________________________\n",
      "Layer (type)                 Output Shape              Param #   \n",
      "=================================================================\n",
      "dense_25 (Dense)             (None, 300)               90300     \n",
      "_________________________________________________________________\n",
      "dropout_18 (Dropout)         (None, 300)               0         \n",
      "_________________________________________________________________\n",
      "dense_26 (Dense)             (None, 300)               90300     \n",
      "_________________________________________________________________\n",
      "dropout_19 (Dropout)         (None, 300)               0         \n",
      "_________________________________________________________________\n",
      "dense_27 (Dense)             (None, 64)                19264     \n",
      "_________________________________________________________________\n",
      "dropout_20 (Dropout)         (None, 64)                0         \n",
      "_________________________________________________________________\n",
      "dense_28 (Dense)             (None, 32)                2080      \n",
      "_________________________________________________________________\n",
      "dropout_21 (Dropout)         (None, 32)                0         \n",
      "_________________________________________________________________\n",
      "dense_29 (Dense)             (None, 32)                1056      \n",
      "_________________________________________________________________\n",
      "dropout_22 (Dropout)         (None, 32)                0         \n",
      "_________________________________________________________________\n",
      "dense_30 (Dense)             (None, 64)                2112      \n",
      "_________________________________________________________________\n",
      "dropout_23 (Dropout)         (None, 64)                0         \n",
      "_________________________________________________________________\n",
      "dense_31 (Dense)             (None, 300)               19500     \n",
      "=================================================================\n",
      "Total params: 224,612\n",
      "Trainable params: 224,612\n",
      "Non-trainable params: 0\n",
      "_________________________________________________________________\n",
      "None\n",
      "Epoch 1/30\n",
      "563/563 [==============================] - 2s 4ms/step - loss: 3.9645 - val_loss: 1.7298\n",
      "Epoch 2/30\n",
      "563/563 [==============================] - 2s 3ms/step - loss: 1.3437 - val_loss: 1.3287\n",
      "Epoch 3/30\n",
      "563/563 [==============================] - 2s 3ms/step - loss: 1.1622 - val_loss: 1.2374\n",
      "Epoch 4/30\n",
      "563/563 [==============================] - 2s 3ms/step - loss: 1.1083 - val_loss: 1.1945\n",
      "Epoch 5/30\n",
      "563/563 [==============================] - 2s 3ms/step - loss: 1.0804 - val_loss: 1.1720\n",
      "Epoch 6/30\n",
      "563/563 [==============================] - 2s 3ms/step - loss: 1.0616 - val_loss: 1.1578\n",
      "Epoch 7/30\n",
      "563/563 [==============================] - 2s 3ms/step - loss: 1.0485 - val_loss: 1.1444\n",
      "Epoch 8/30\n",
      "563/563 [==============================] - 2s 3ms/step - loss: 1.0383 - val_loss: 1.1364\n",
      "Epoch 9/30\n",
      "563/563 [==============================] - 2s 3ms/step - loss: 1.0300 - val_loss: 1.1291\n",
      "Epoch 10/30\n",
      "563/563 [==============================] - 2s 3ms/step - loss: 1.0241 - val_loss: 1.1238\n",
      "Epoch 11/30\n",
      "563/563 [==============================] - 2s 3ms/step - loss: 1.0192 - val_loss: 1.1202\n",
      "Epoch 12/30\n",
      "563/563 [==============================] - 2s 3ms/step - loss: 1.0150 - val_loss: 1.1164\n",
      "Epoch 13/30\n",
      "563/563 [==============================] - 2s 3ms/step - loss: 1.0115 - val_loss: 1.1133\n",
      "Epoch 14/30\n",
      "563/563 [==============================] - 2s 3ms/step - loss: 1.0084 - val_loss: 1.1103\n",
      "Epoch 15/30\n",
      "563/563 [==============================] - 2s 3ms/step - loss: 1.0057 - val_loss: 1.1085\n",
      "Epoch 16/30\n",
      "563/563 [==============================] - 2s 3ms/step - loss: 1.0035 - val_loss: 1.1062\n",
      "Epoch 17/30\n",
      "563/563 [==============================] - 2s 3ms/step - loss: 1.0014 - val_loss: 1.1044\n",
      "Epoch 18/30\n",
      "563/563 [==============================] - 2s 3ms/step - loss: 0.9997 - val_loss: 1.1030\n",
      "Epoch 19/30\n",
      "563/563 [==============================] - 2s 3ms/step - loss: 0.9981 - val_loss: 1.1019\n",
      "Epoch 20/30\n",
      "563/563 [==============================] - 2s 3ms/step - loss: 0.9968 - val_loss: 1.1005\n",
      "Epoch 21/30\n",
      "563/563 [==============================] - 2s 3ms/step - loss: 0.9957 - val_loss: 1.0996\n",
      "Epoch 22/30\n",
      "563/563 [==============================] - 2s 3ms/step - loss: 0.9947 - val_loss: 1.0990\n",
      "Epoch 23/30\n",
      "563/563 [==============================] - 2s 3ms/step - loss: 0.9938 - val_loss: 1.0980\n",
      "Epoch 24/30\n",
      "563/563 [==============================] - 2s 3ms/step - loss: 0.9931 - val_loss: 1.0975\n",
      "Epoch 25/30\n",
      "563/563 [==============================] - 2s 3ms/step - loss: 0.9926 - val_loss: 1.0969\n",
      "Epoch 26/30\n",
      "563/563 [==============================] - 2s 3ms/step - loss: 0.9921 - val_loss: 1.0965\n",
      "Epoch 27/30\n",
      "563/563 [==============================] - 2s 3ms/step - loss: 0.9917 - val_loss: 1.0962\n",
      "Epoch 28/30\n",
      "563/563 [==============================] - 2s 3ms/step - loss: 0.9914 - val_loss: 1.0959\n",
      "Epoch 29/30\n",
      "563/563 [==============================] - 2s 3ms/step - loss: 0.9911 - val_loss: 1.0956\n",
      "Epoch 30/30\n",
      "563/563 [==============================] - 2s 3ms/step - loss: 0.9909 - val_loss: 1.0954\n"
     ]
    },
    {
     "data": {
      "text/plain": [
       "AutoEncoder(batch_size=32, contamination=0.1, dropout_rate=0.2, epochs=30,\n",
       "      hidden_activation='relu', hidden_neurons=[64, 32, 32, 64],\n",
       "      l2_regularizer=0.1,\n",
       "      loss=<function mean_squared_error at 0x0000012E8C0FAD30>,\n",
       "      optimizer='adam', output_activation='sigmoid', preprocessing=True,\n",
       "      random_state=None, validation_size=0.1, verbose=1)"
      ]
     },
     "execution_count": 168,
     "metadata": {},
     "output_type": "execute_result"
    }
   ],
   "source": [
    "# train AutoEncoder detector\n",
    "clf_name = 'AutoEncoder'\n",
    "clf = AutoEncoder(epochs=30, contamination=contamination)\n",
    "clf.fit(X_train)"
   ]
  },
  {
   "cell_type": "code",
   "execution_count": 169,
   "metadata": {},
   "outputs": [
    {
     "name": "stdout",
     "output_type": "stream",
     "text": [
      "\n",
      "On Training Data:\n",
      "AutoEncoder ROC:1.0, precision @ rank n:1.0\n",
      "\n",
      "On Test Data:\n",
      "AutoEncoder ROC:1.0, precision @ rank n:1.0\n"
     ]
    }
   ],
   "source": [
    "# get the prediction labels and outlier scores of the training data\n",
    "y_train_pred = clf.labels_  # binary labels (0: inliers, 1: outliers)\n",
    "y_train_scores = clf.decision_scores_  # raw outlier scores\n",
    "\n",
    "# get the prediction on the test data\n",
    "y_test_pred = clf.predict(X_test)  # outlier labels (0 or 1)\n",
    "y_test_scores = clf.decision_function(X_test)  # outlier scores\n",
    "\n",
    "# evaluate and print the results\n",
    "print(\"\\nOn Training Data:\")\n",
    "evaluate_print(clf_name, y_train, y_train_scores)\n",
    "print(\"\\nOn Test Data:\")\n",
    "evaluate_print(clf_name, y_test, y_test_scores)"
   ]
  },
  {
   "cell_type": "markdown",
   "metadata": {},
   "source": [
    "## Variational Autoencoder Example"
   ]
  },
  {
   "cell_type": "code",
   "execution_count": 170,
   "metadata": {},
   "outputs": [
    {
     "name": "stderr",
     "output_type": "stream",
     "text": [
      "C:\\Users\\deepl\\anaconda3\\lib\\site-packages\\pyod\\utils\\data.py:185: FutureWarning: behaviour=\"old\" is deprecated and will be removed in version 0.8.0. Please use behaviour=\"new\", which makes the returned datasets in the order of X_train, X_test, y_train, y_test.\n",
      "  warn('behaviour=\"old\" is deprecated and will be removed '\n"
     ]
    },
    {
     "name": "stdout",
     "output_type": "stream",
     "text": [
      "Model: \"functional_7\"\n",
      "__________________________________________________________________________________________________\n",
      "Layer (type)                    Output Shape         Param #     Connected to                     \n",
      "==================================================================================================\n",
      "input_3 (InputLayer)            [(None, 300)]        0                                            \n",
      "__________________________________________________________________________________________________\n",
      "dense_32 (Dense)                (None, 300)          90300       input_3[0][0]                    \n",
      "__________________________________________________________________________________________________\n",
      "dense_33 (Dense)                (None, 128)          38528       dense_32[0][0]                   \n",
      "__________________________________________________________________________________________________\n",
      "dropout_24 (Dropout)            (None, 128)          0           dense_33[0][0]                   \n",
      "__________________________________________________________________________________________________\n",
      "dense_34 (Dense)                (None, 64)           8256        dropout_24[0][0]                 \n",
      "__________________________________________________________________________________________________\n",
      "dropout_25 (Dropout)            (None, 64)           0           dense_34[0][0]                   \n",
      "__________________________________________________________________________________________________\n",
      "dense_35 (Dense)                (None, 32)           2080        dropout_25[0][0]                 \n",
      "__________________________________________________________________________________________________\n",
      "dropout_26 (Dropout)            (None, 32)           0           dense_35[0][0]                   \n",
      "__________________________________________________________________________________________________\n",
      "dense_36 (Dense)                (None, 2)            66          dropout_26[0][0]                 \n",
      "__________________________________________________________________________________________________\n",
      "dense_37 (Dense)                (None, 2)            66          dropout_26[0][0]                 \n",
      "__________________________________________________________________________________________________\n",
      "lambda_1 (Lambda)               (None, 2)            0           dense_36[0][0]                   \n",
      "                                                                 dense_37[0][0]                   \n",
      "==================================================================================================\n",
      "Total params: 139,296\n",
      "Trainable params: 139,296\n",
      "Non-trainable params: 0\n",
      "__________________________________________________________________________________________________\n",
      "Model: \"functional_9\"\n",
      "_________________________________________________________________\n",
      "Layer (type)                 Output Shape              Param #   \n",
      "=================================================================\n",
      "input_4 (InputLayer)         [(None, 2)]               0         \n",
      "_________________________________________________________________\n",
      "dense_38 (Dense)             (None, 2)                 6         \n",
      "_________________________________________________________________\n",
      "dense_39 (Dense)             (None, 32)                96        \n",
      "_________________________________________________________________\n",
      "dropout_27 (Dropout)         (None, 32)                0         \n",
      "_________________________________________________________________\n",
      "dense_40 (Dense)             (None, 64)                2112      \n",
      "_________________________________________________________________\n",
      "dropout_28 (Dropout)         (None, 64)                0         \n",
      "_________________________________________________________________\n",
      "dense_41 (Dense)             (None, 128)               8320      \n",
      "_________________________________________________________________\n",
      "dropout_29 (Dropout)         (None, 128)               0         \n",
      "_________________________________________________________________\n",
      "dense_42 (Dense)             (None, 300)               38700     \n",
      "=================================================================\n",
      "Total params: 49,234\n",
      "Trainable params: 49,234\n",
      "Non-trainable params: 0\n",
      "_________________________________________________________________\n",
      "Model: \"functional_11\"\n",
      "__________________________________________________________________________________________________\n",
      "Layer (type)                    Output Shape         Param #     Connected to                     \n",
      "==================================================================================================\n",
      "input_3 (InputLayer)            [(None, 300)]        0                                            \n",
      "__________________________________________________________________________________________________\n",
      "functional_7 (Functional)       [(None, 2), (None, 2 139296      input_3[0][0]                    \n",
      "__________________________________________________________________________________________________\n",
      "functional_9 (Functional)       (None, 300)          49234       functional_7[0][2]               \n",
      "__________________________________________________________________________________________________\n",
      "dense_32 (Dense)                (None, 300)          90300       input_3[0][0]                    \n",
      "__________________________________________________________________________________________________\n",
      "dense_33 (Dense)                (None, 128)          38528       dense_32[0][0]                   \n",
      "__________________________________________________________________________________________________\n",
      "dropout_24 (Dropout)            (None, 128)          0           dense_33[0][0]                   \n",
      "__________________________________________________________________________________________________\n",
      "dense_34 (Dense)                (None, 64)           8256        dropout_24[0][0]                 \n",
      "__________________________________________________________________________________________________\n",
      "dropout_25 (Dropout)            (None, 64)           0           dense_34[0][0]                   \n",
      "__________________________________________________________________________________________________\n",
      "dense_35 (Dense)                (None, 32)           2080        dropout_25[0][0]                 \n",
      "__________________________________________________________________________________________________\n",
      "dropout_26 (Dropout)            (None, 32)           0           dense_35[0][0]                   \n",
      "__________________________________________________________________________________________________\n",
      "dense_37 (Dense)                (None, 2)            66          dropout_26[0][0]                 \n",
      "__________________________________________________________________________________________________\n",
      "dense_36 (Dense)                (None, 2)            66          dropout_26[0][0]                 \n",
      "__________________________________________________________________________________________________\n",
      "tf_op_layer_AddV2_2 (TensorFlow [(None, 2)]          0           dense_37[0][0]                   \n",
      "__________________________________________________________________________________________________\n",
      "tf_op_layer_Square_1 (TensorFlo [(None, 2)]          0           dense_36[0][0]                   \n",
      "__________________________________________________________________________________________________\n",
      "tf_op_layer_Sub_3 (TensorFlowOp [(None, 2)]          0           tf_op_layer_AddV2_2[0][0]        \n",
      "                                                                 tf_op_layer_Square_1[0][0]       \n",
      "__________________________________________________________________________________________________\n",
      "tf_op_layer_Exp_1 (TensorFlowOp [(None, 2)]          0           dense_37[0][0]                   \n",
      "__________________________________________________________________________________________________\n",
      "tf_op_layer_Sub_4 (TensorFlowOp [(None, 2)]          0           tf_op_layer_Sub_3[0][0]          \n",
      "                                                                 tf_op_layer_Exp_1[0][0]          \n",
      "__________________________________________________________________________________________________\n",
      "tf_op_layer_Sum_1 (TensorFlowOp [(None,)]            0           tf_op_layer_Sub_4[0][0]          \n",
      "__________________________________________________________________________________________________\n",
      "tf_op_layer_Mul_4 (TensorFlowOp [(None,)]            0           tf_op_layer_Sum_1[0][0]          \n",
      "__________________________________________________________________________________________________\n",
      "tf_op_layer_SquaredDifference_1 [(None, 300)]        0           functional_9[0][0]               \n",
      "                                                                 input_3[0][0]                    \n",
      "__________________________________________________________________________________________________\n",
      "tf_op_layer_Sub_5 (TensorFlowOp [(None,)]            0           tf_op_layer_Mul_4[0][0]          \n",
      "__________________________________________________________________________________________________\n",
      "tf_op_layer_Mean_2 (TensorFlowO [(None,)]            0           tf_op_layer_SquaredDifference_1[0\n",
      "__________________________________________________________________________________________________\n",
      "tf_op_layer_Abs_1 (TensorFlowOp [(None,)]            0           tf_op_layer_Sub_5[0][0]          \n",
      "__________________________________________________________________________________________________\n",
      "tf_op_layer_Mul_3 (TensorFlowOp [(None,)]            0           tf_op_layer_Mean_2[0][0]         \n",
      "__________________________________________________________________________________________________\n",
      "tf_op_layer_Mul_5 (TensorFlowOp [(None,)]            0           tf_op_layer_Abs_1[0][0]          \n",
      "__________________________________________________________________________________________________\n",
      "tf_op_layer_AddV2_3 (TensorFlow [(None,)]            0           tf_op_layer_Mul_3[0][0]          \n",
      "                                                                 tf_op_layer_Mul_5[0][0]          \n",
      "__________________________________________________________________________________________________\n",
      "tf_op_layer_Mean_3 (TensorFlowO [()]                 0           tf_op_layer_AddV2_3[0][0]        \n",
      "__________________________________________________________________________________________________\n",
      "add_loss_1 (AddLoss)            ()                   0           tf_op_layer_Mean_3[0][0]         \n",
      "==================================================================================================\n",
      "Total params: 188,530\n",
      "Trainable params: 188,530\n",
      "Non-trainable params: 0\n",
      "__________________________________________________________________________________________________\n",
      "Epoch 1/30\n",
      "563/563 [==============================] - 3s 5ms/step - loss: 294.6760 - val_loss: 285.3538\n",
      "Epoch 2/30\n",
      "563/563 [==============================] - 2s 4ms/step - loss: 285.2201 - val_loss: 283.8616\n",
      "Epoch 3/30\n",
      "563/563 [==============================] - 2s 4ms/step - loss: 285.6759 - val_loss: 283.2834\n",
      "Epoch 4/30\n",
      "563/563 [==============================] - 2s 4ms/step - loss: 285.1385 - val_loss: 284.0221\n",
      "Epoch 5/30\n",
      "563/563 [==============================] - 2s 4ms/step - loss: 284.1115 - val_loss: 284.1879\n",
      "Epoch 6/30\n",
      "563/563 [==============================] - 2s 4ms/step - loss: 283.6898 - val_loss: 282.9270\n",
      "Epoch 7/30\n",
      "563/563 [==============================] - 2s 4ms/step - loss: 283.4997 - val_loss: 282.3919\n",
      "Epoch 8/30\n",
      "563/563 [==============================] - 2s 4ms/step - loss: 283.2994 - val_loss: 283.3144\n",
      "Epoch 9/30\n",
      "563/563 [==============================] - 2s 4ms/step - loss: 283.5642 - val_loss: 285.4829\n",
      "Epoch 10/30\n",
      "563/563 [==============================] - 3s 5ms/step - loss: 283.1649 - val_loss: 282.8411\n",
      "Epoch 11/30\n",
      "563/563 [==============================] - 2s 4ms/step - loss: 282.6799 - val_loss: 282.5679\n",
      "Epoch 12/30\n",
      "563/563 [==============================] - 3s 4ms/step - loss: 283.4843 - val_loss: 283.8406\n",
      "Epoch 13/30\n",
      "563/563 [==============================] - 3s 4ms/step - loss: 283.4143 - val_loss: 285.0324\n",
      "Epoch 14/30\n",
      "563/563 [==============================] - 2s 4ms/step - loss: 283.6693 - val_loss: 282.0941\n",
      "Epoch 15/30\n",
      "563/563 [==============================] - 3s 4ms/step - loss: 282.3867 - val_loss: 282.0992\n",
      "Epoch 16/30\n",
      "563/563 [==============================] - 2s 4ms/step - loss: 282.0644 - val_loss: 282.2053\n",
      "Epoch 17/30\n",
      "563/563 [==============================] - 2s 4ms/step - loss: 282.4993 - val_loss: 282.2947\n",
      "Epoch 18/30\n",
      "563/563 [==============================] - 2s 4ms/step - loss: 282.4395 - val_loss: 282.2750\n",
      "Epoch 19/30\n",
      "563/563 [==============================] - 3s 5ms/step - loss: 282.0793 - val_loss: 282.2159\n",
      "Epoch 20/30\n",
      "563/563 [==============================] - 3s 5ms/step - loss: 282.0046 - val_loss: 282.1832\n",
      "Epoch 21/30\n",
      "563/563 [==============================] - 2s 4ms/step - loss: 282.5385 - val_loss: 285.9682\n",
      "Epoch 22/30\n",
      "563/563 [==============================] - 3s 5ms/step - loss: 283.9781 - val_loss: 283.4370\n",
      "Epoch 23/30\n",
      "563/563 [==============================] - 3s 5ms/step - loss: 282.3097 - val_loss: 281.9778\n",
      "Epoch 24/30\n",
      "563/563 [==============================] - 2s 4ms/step - loss: 281.8297 - val_loss: 282.1277\n",
      "Epoch 25/30\n",
      "563/563 [==============================] - 2s 4ms/step - loss: 282.2756 - val_loss: 281.9555\n",
      "Epoch 26/30\n",
      "563/563 [==============================] - 2s 4ms/step - loss: 281.7215 - val_loss: 281.9938\n",
      "Epoch 27/30\n",
      "563/563 [==============================] - 2s 4ms/step - loss: 281.6159 - val_loss: 281.9959\n",
      "Epoch 28/30\n",
      "563/563 [==============================] - 2s 4ms/step - loss: 281.8557 - val_loss: 281.8821\n",
      "Epoch 29/30\n",
      "563/563 [==============================] - 2s 4ms/step - loss: 282.0703 - val_loss: 281.8774\n",
      "Epoch 30/30\n",
      "563/563 [==============================] - 2s 4ms/step - loss: 281.9675 - val_loss: 282.0625\n",
      "\n",
      "On Training Data:\n",
      "VAE ROC:1.0, precision @ rank n:1.0\n",
      "\n",
      "On Test Data:\n",
      "VAE ROC:1.0, precision @ rank n:1.0\n"
     ]
    }
   ],
   "source": [
    "# Generate sample data\n",
    "X_train, y_train, X_test, y_test = \\\n",
    "    generate_data(n_train=n_train,\n",
    "                  n_test=n_test,\n",
    "                  n_features=n_features,\n",
    "                  contamination=contamination,\n",
    "                  random_state=42)\n",
    "\n",
    "# train VAE detector (Beta-VAE)\n",
    "clf_name = 'VAE'\n",
    "clf = VAE(epochs=30, contamination=contamination, gamma=0.8, capacity=0.2)\n",
    "clf.fit(X_train)\n",
    "\n",
    "# get the prediction labels and outlier scores of the training data\n",
    "y_train_pred = clf.labels_  # binary labels (0: inliers, 1: outliers)\n",
    "y_train_scores = clf.decision_scores_  # raw outlier scores\n",
    "\n",
    "# get the prediction on the test data\n",
    "y_test_pred = clf.predict(X_test)  # outlier labels (0 or 1)\n",
    "y_test_scores = clf.decision_function(X_test)  # outlier scores\n",
    "\n",
    "# evaluate and print the results\n",
    "print(\"\\nOn Training Data:\")\n",
    "evaluate_print(clf_name, y_train, y_train_scores)\n",
    "print(\"\\nOn Test Data:\")\n",
    "evaluate_print(clf_name, y_test, y_test_scores)"
   ]
  },
  {
   "cell_type": "code",
   "execution_count": null,
   "metadata": {},
   "outputs": [],
   "source": []
  }
 ],
 "metadata": {
  "kernelspec": {
   "display_name": "Python 3",
   "language": "python",
   "name": "python3"
  },
  "language_info": {
   "codemirror_mode": {
    "name": "ipython",
    "version": 3
   },
   "file_extension": ".py",
   "mimetype": "text/x-python",
   "name": "python",
   "nbconvert_exporter": "python",
   "pygments_lexer": "ipython3",
   "version": "3.8.5"
  }
 },
 "nbformat": 4,
 "nbformat_minor": 4
}
